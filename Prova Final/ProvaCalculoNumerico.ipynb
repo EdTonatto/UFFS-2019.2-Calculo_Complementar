{
  "nbformat": 4,
  "nbformat_minor": 0,
  "metadata": {
    "colab": {
      "name": "Untitled4.ipynb",
      "provenance": [],
      "include_colab_link": true
    },
    "kernelspec": {
      "name": "python3",
      "display_name": "Python 3"
    }
  },
  "cells": [
    {
      "cell_type": "markdown",
      "metadata": {
        "id": "view-in-github",
        "colab_type": "text"
      },
      "source": [
        "<a href=\"https://colab.research.google.com/github/EdTonatto/UFFS-2019.2-Calculo_Complementar/blob/master/Prova%20Final/ProvaCalculoNumerico.ipynb\" target=\"_parent\"><img src=\"https://colab.research.google.com/assets/colab-badge.svg\" alt=\"Open In Colab\"/></a>"
      ]
    },
    {
      "cell_type": "markdown",
      "metadata": {
        "id": "LmSOxC1fPdvy",
        "colab_type": "text"
      },
      "source": [
        "**Problema 01**: Estima-se que a produção semanal de uma fábrica é dada pela função f(x, y) =1200x + 500y + x^2y - x^3 - y^2\n",
        "unidades, onde x é o número de operários\n",
        "especializados e y o número de operários não especializados utilizados no trabalho. No\n",
        "momento, a mão de obra disponível é constituída por 30 operários especializados e 60\n",
        "operários não especializados. Use a análise marginal para estimar a variação da\n",
        "produção se mais 1 operário especializado for contratado e o número de operários não\n",
        "especializado permanecer constante."
      ]
    },
    {
      "cell_type": "code",
      "metadata": {
        "id": "J3qDpTa7ONRY",
        "colab_type": "code",
        "outputId": "fd459ec9-a098-4809-bcb8-67aa32f74350",
        "colab": {
          "base_uri": "https://localhost:8080/",
          "height": 34
        }
      },
      "source": [
        "import numpy as np\n",
        "import pylab as plt\n",
        "\n",
        "y = lambda x: 1200*x + 500*60 + (x**2)*60 - x**3 - 60**2\n",
        "\n",
        "def derivada_central(funcao, a, h=0.01):\n",
        "  return (funcao(a+h)-funcao(a-h))/(2*h)\n",
        "\n",
        "print(derivada_central(f, 30))"
      ],
      "execution_count": 0,
      "outputs": [
        {
          "output_type": "stream",
          "text": [
            "2099.999899999966\n"
          ],
          "name": "stdout"
        }
      ]
    },
    {
      "cell_type": "markdown",
      "metadata": {
        "id": "nML7A3mgPzFT",
        "colab_type": "text"
      },
      "source": [
        "**Solução**\n",
        "\n",
        "A variação de produção para cada 1 operário especializado contratado é de 2100 unidades.\n",
        "\n",
        "---\n",
        "\n"
      ]
    },
    {
      "cell_type": "markdown",
      "metadata": {
        "id": "zogRgDhWQRgf",
        "colab_type": "text"
      },
      "source": [
        "**Problema 02**: Um empresário calcula que, quando xunidades de um certo produto são fabricadas, o lucro é dado por f(x) = - 400x2+ 6.800x-12.000 reais. Qual é a taxa de variação do lucro em relação ao nível de produção xquando estão sendo produzidas 9.000 unidades?"
      ]
    },
    {
      "cell_type": "code",
      "metadata": {
        "id": "0s1sOvjYOebg",
        "colab_type": "code",
        "outputId": "10d696c9-5d75-4b92-cf16-50730487a06f",
        "colab": {
          "base_uri": "https://localhost:8080/",
          "height": 34
        }
      },
      "source": [
        "import numpy as np\n",
        "import pylab as plt\n",
        "\n",
        "y = lambda x: -400*(x**2)+ 6800*x-12000\n",
        "\n",
        "def derivada_central(funcao, a, h=0.01):\n",
        "    return (funcao(a+h)-funcao(a-h))/(2*h)\n",
        "\n",
        "dx = derivada_central(y, 9000)\n",
        "\n",
        "if dx < 0:\n",
        "  print(\"Está tendo um prejuizo de : {prejuizo}\".format(prejuizo=dx))\n",
        "else:\n",
        "  print(\"Está tendo um lucro de : {lucro}\".format(lucro=dx))"
      ],
      "execution_count": 0,
      "outputs": [
        {
          "output_type": "stream",
          "text": [
            "Está tendo um prejuizo de : -7193200.0\n"
          ],
          "name": "stdout"
        }
      ]
    },
    {
      "cell_type": "markdown",
      "metadata": {
        "id": "iBh0ctHBQcLQ",
        "colab_type": "text"
      },
      "source": [
        "**Solução**\n",
        "\n",
        "A taxa de variação do lucro é negativa, ou seja, está tendo um prejuízo de R$7.193.200,00.\n",
        "\n",
        "---\n",
        "\n"
      ]
    },
    {
      "cell_type": "markdown",
      "metadata": {
        "id": "hjrs0mFYQxIb",
        "colab_type": "text"
      },
      "source": [
        "**Problema 03**: ÁREA SUPERFICIAL DO CORPO HUMANO É dada pela expressão empírica S(W, H) = 0,0072(W^0,425) (H^0,725) , onde W (Kg) e H(cm), são, respectivamente, peso e a altura da pessoa. No momento, uma certa criança pesa 34Kg e tem 1m e 20cm de altura."
      ]
    },
    {
      "cell_type": "code",
      "metadata": {
        "id": "1pccJLRHOtc7",
        "colab_type": "code",
        "outputId": "888710c3-816b-4198-aeaf-25451796a695",
        "colab": {
          "base_uri": "https://localhost:8080/",
          "height": 51
        }
      },
      "source": [
        "import numpy as np\n",
        "import pylab as plt\n",
        "\n",
        "sw = lambda x:  0.0072 * (x**0.425) * (163**0.725) \n",
        "sh = lambda x:  0.0072 * (50**0.425) * (x**0.725) \n",
        "\n",
        "def derivada_central(funcao, a, h=0.01):\n",
        "    return (funcao(a+h)-funcao(a-h))/(2*h)\n",
        "\n",
        "print(\"Variação em relação ao peso: {variacao}\".format(variacao=derivada_central(sw, 50)))\n",
        "print(\"Variação em relação a altura: {variacao}\".format(variacao=derivada_central(sh, 163)))"
      ],
      "execution_count": 0,
      "outputs": [
        {
          "output_type": "stream",
          "text": [
            "Variação em relação ao peso: 0.01296133363370977\n",
            "Variação em relação a altura: 0.006782365088242592\n"
          ],
          "name": "stdout"
        }
      ]
    }
  ]
}